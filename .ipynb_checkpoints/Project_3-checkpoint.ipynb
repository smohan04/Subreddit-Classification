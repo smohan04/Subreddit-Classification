{
 "cells": [
  {
   "cell_type": "markdown",
   "metadata": {},
   "source": [
    "## Project 3"
   ]
  },
  {
   "cell_type": "markdown",
   "metadata": {},
   "source": [
    "### Purpose:\n",
    "The goal of this project is to import data from two similar subreddits and train a classifer to distinguish between these two subreddits. We will also try to identify distinguishing features of these subreddits. Models will be created using KNN, Logistic Regression and Random Forest. Accuracy scores will be used to measure the effectiveness of each model. We also will look at whether each subreddits posting rules have an effect on the content promoted. \n"
   ]
  },
  {
   "cell_type": "markdown",
   "metadata": {},
   "source": [
    "### Data:\n"
   ]
  },
  {
   "cell_type": "markdown",
   "metadata": {},
   "source": [
    "We will collect data from two subreddits:\n",
    "* r/NBA\n",
    "* r/NBADiscussion\n",
    "Both of theses subreddits target similar audiences, fans of the National Basketball Association. While r/NBA is for NBA news and discussions, r/NBADiscussion is tailored specifically to promote high quality discussion.\n",
    "This difference is highlighted by the rules of each subreddit:\n",
    "\n",
    "\n",
    "NBA\n",
    "* 1.Be civil and respectful\n",
    "* 2.No trolling or baiting users\n",
    "* 3.No racist, sexist, or homophobic language\n",
    "* 4.No reposts\n",
    "* 5.No fake news\n",
    "* 6.No self-promotion\n",
    "* 7.No NSFW content\n",
    "* 8.Posts and comments must be relevant to the NBA\n",
    "* 9.Stats/Player Tweets/Quotes/Misc. Media are self-post only and must be sourced\n",
    "\n",
    "NBADiscussion\n",
    "* 1.Keep it civil.\n",
    "* 2.Submit high quality content.\n",
    "* 3.This is a discussion subreddit. Support claims with substantiated arguments.\n",
    "* 4.Vote based on if the post or comment meets the standard of quality you expect from this subreddit.\n",
    "* 5.No spam.\n",
    "* 6.Attack the argument, not the person.\n",
    "* 7.Most arguments can't be deconstructed in a sentence. Top level comments have a char. minimum of 100\n",
    "* 8.Present descriptive, clear, and concise titles.\n",
    "* 9.Present your own argument.\n",
    "* 10.Posts like \"Thoughts?\" or \"Discuss\" are low effort and will be removed.\n",
    "* 11.Post enough content to provide a jumping-off point. The char. minimum for posts is 350.\n",
    "\n",
    "Notice, in NBADiscussion there is a minimum character requirement for post body content as well as for top level comments. Posts have a quality requirement in the NBADiscussion subreddit and voting is supposed to be based of if the post meets these requirements. NBA posts do not minimum character length requirements, nor do they have strict quality requirements. "
   ]
  },
  {
   "cell_type": "markdown",
   "metadata": {},
   "source": [
    "### Import Data"
   ]
  },
  {
   "cell_type": "code",
   "execution_count": 900,
   "metadata": {},
   "outputs": [],
   "source": [
    "import praw\n",
    "import pandas as pd"
   ]
  },
  {
   "cell_type": "code",
   "execution_count": 901,
   "metadata": {},
   "outputs": [],
   "source": [
    "reddit = praw.Reddit(client_id = 'f52I39hL-ZHUzQ',     \n",
    "                     client_secret = 'JuIQ7zQsj6L3rr8Ns-NXVQQSzT8', \n",
    "                     user_agent = 'redditnba',   \n",
    "                     username = 'drghostpepper',      \n",
    "                     password = 'HRockets*4')     "
   ]
  },
  {
   "cell_type": "code",
   "execution_count": 902,
   "metadata": {},
   "outputs": [],
   "source": [
    "nba = reddit.subreddit('nba')    "
   ]
  },
  {
   "cell_type": "code",
   "execution_count": 903,
   "metadata": {},
   "outputs": [],
   "source": [
    "nbadiscussion = reddit.subreddit('nbadiscussion')"
   ]
  },
  {
   "cell_type": "markdown",
   "metadata": {},
   "source": [
    "#### Pull Posts\n",
    "\n",
    "We will pull the top posts from each subreddit. The top posts will be pulled because it can help distinguish which types of posts are promoted in each subreddit. We can also see if the rules of each subreddit have an impact on the upvoted posts. "
   ]
  },
  {
   "cell_type": "code",
   "execution_count": 7,
   "metadata": {},
   "outputs": [],
   "source": [
    "nba_top = nba.top(limit = 10000)"
   ]
  },
  {
   "cell_type": "code",
   "execution_count": 8,
   "metadata": {},
   "outputs": [],
   "source": [
    "nbadiscussion_top = nbadiscussion.top(limit = 10000)"
   ]
  },
  {
   "cell_type": "markdown",
   "metadata": {},
   "source": [
    "#### Create a topics dictionary:"
   ]
  },
  {
   "cell_type": "code",
   "execution_count": 9,
   "metadata": {},
   "outputs": [],
   "source": [
    "nba_dict = { \"title\":[],\n",
    "                \"score\":[],\n",
    "                \"id\":[],\n",
    "                \"url\":[], \n",
    "                \"comms_num\": [],\n",
    "                \"created\": [],\n",
    "                \"body\":[]}\n",
    "\n",
    "for item in nba_top:\n",
    "    nba_dict[\"title\"].append(item.title)\n",
    "    nba_dict[\"score\"].append(item.score)\n",
    "    nba_dict[\"id\"].append(item.id)\n",
    "    nba_dict[\"url\"].append(item.url)\n",
    "    nba_dict[\"comms_num\"].append(item.num_comments)\n",
    "    nba_dict[\"created\"].append(item.created)\n",
    "    nba_dict[\"body\"].append(item.selftext)"
   ]
  },
  {
   "cell_type": "code",
   "execution_count": 10,
   "metadata": {},
   "outputs": [],
   "source": [
    "nbadiscussion_dict = { \"title\":[],\n",
    "                \"score\":[],\n",
    "                \"id\":[],\n",
    "                \"url\":[], \n",
    "                \"comms_num\": [],\n",
    "                \"created\": [],\n",
    "                \"body\":[]}\n",
    "\n",
    "for item in nbadiscussion_top:\n",
    "    nbadiscussion_dict[\"title\"].append(item.title)\n",
    "    nbadiscussion_dict[\"score\"].append(item.score)\n",
    "    nbadiscussion_dict[\"id\"].append(item.id)\n",
    "    nbadiscussion_dict[\"url\"].append(item.url)\n",
    "    nbadiscussion_dict[\"comms_num\"].append(item.num_comments)\n",
    "    nbadiscussion_dict[\"created\"].append(item.created)\n",
    "    nbadiscussion_dict[\"body\"].append(item.selftext)"
   ]
  },
  {
   "cell_type": "code",
   "execution_count": 2,
   "metadata": {
    "scrolled": true
   },
   "outputs": [],
   "source": [
    "# nba_dict"
   ]
  },
  {
   "cell_type": "code",
   "execution_count": 3,
   "metadata": {},
   "outputs": [],
   "source": [
    "# nbadiscussion_dict"
   ]
  },
  {
   "cell_type": "markdown",
   "metadata": {},
   "source": [
    "#### Convert Dictionaries into Dataframes"
   ]
  },
  {
   "cell_type": "code",
   "execution_count": 1504,
   "metadata": {
    "scrolled": true
   },
   "outputs": [],
   "source": [
    "dfn=pd.DataFrame(nba_dict)\n",
    "\n",
    "dfnd=pd.DataFrame(nbadiscussion_dict)"
   ]
  },
  {
   "cell_type": "markdown",
   "metadata": {},
   "source": [
    "Pulled 1000 posts from NBA subreddit and pulled 995 posts from NBADiscussion subreddit."
   ]
  },
  {
   "cell_type": "code",
   "execution_count": 1495,
   "metadata": {},
   "outputs": [],
   "source": [
    "dfn.drop(columns=['score','id','url','comms_num','created'],inplace=True)\n",
    "\n",
    "dfnd.drop(columns=['score','id','url','comms_num','created'],inplace=True)"
   ]
  },
  {
   "cell_type": "markdown",
   "metadata": {},
   "source": [
    "#### Add Subreddit Column and Concatenate Dataframes"
   ]
  },
  {
   "cell_type": "code",
   "execution_count": 1496,
   "metadata": {},
   "outputs": [],
   "source": [
    "dfn['subreddit']='nba'\n",
    "\n",
    "dfnd['subreddit']='nbadiscussion'\n",
    "\n",
    "df=pd.concat([dfn,dfnd]).reset_index()\n",
    "\n",
    "df.to_csv('nba_subreddits.csv')"
   ]
  },
  {
   "cell_type": "markdown",
   "metadata": {},
   "source": [
    "#### Create Columns for word count and length"
   ]
  },
  {
   "cell_type": "markdown",
   "metadata": {},
   "source": [
    "Creating word count and length counts to see if the minimum character lengths in the NBADiscussion subreddit has an effect on the length of posts. We will gauge the correlation between the word count/character length and subreddit classification to see if it can be used to model the data. "
   ]
  },
  {
   "cell_type": "code",
   "execution_count": 1409,
   "metadata": {},
   "outputs": [],
   "source": [
    "df['subreddit']=df['subreddit'].map({'nba':1,\n",
    "                         'nbadiscussion':0})"
   ]
  },
  {
   "cell_type": "code",
   "execution_count": 1410,
   "metadata": {},
   "outputs": [],
   "source": [
    "df['title_and_body']=df['title']+' '+df['body']"
   ]
  },
  {
   "cell_type": "code",
   "execution_count": 1411,
   "metadata": {},
   "outputs": [],
   "source": [
    "df['title_length']=df['title'].map(len)\n",
    "df['body_length']=df['body'].map(len)\n",
    "df['title_and_body_length']=df['title_and_body'].map(len)\n",
    "df['title_word_count']=[len(x.split()) for x in df['title']]\n",
    "df['body_word_count']=[len(x.split()) for x in df['body']]\n",
    "df['title_and_body_word_count']=[len(x.split()) for x in df['title_and_body']]"
   ]
  },
  {
   "cell_type": "code",
   "execution_count": 1412,
   "metadata": {},
   "outputs": [],
   "source": [
    "import seaborn as sns\n",
    "import matplotlib.pyplot as plt\n",
    "import numpy as np"
   ]
  },
  {
   "cell_type": "code",
   "execution_count": 1413,
   "metadata": {},
   "outputs": [
    {
     "data": {
      "text/html": [
       "<div>\n",
       "<style scoped>\n",
       "    .dataframe tbody tr th:only-of-type {\n",
       "        vertical-align: middle;\n",
       "    }\n",
       "\n",
       "    .dataframe tbody tr th {\n",
       "        vertical-align: top;\n",
       "    }\n",
       "\n",
       "    .dataframe thead th {\n",
       "        text-align: right;\n",
       "    }\n",
       "</style>\n",
       "<table border=\"1\" class=\"dataframe\">\n",
       "  <thead>\n",
       "    <tr style=\"text-align: right;\">\n",
       "      <th></th>\n",
       "      <th>count</th>\n",
       "      <th>mean</th>\n",
       "      <th>std</th>\n",
       "      <th>min</th>\n",
       "      <th>25%</th>\n",
       "      <th>50%</th>\n",
       "      <th>75%</th>\n",
       "      <th>max</th>\n",
       "    </tr>\n",
       "    <tr>\n",
       "      <th>subreddit</th>\n",
       "      <th></th>\n",
       "      <th></th>\n",
       "      <th></th>\n",
       "      <th></th>\n",
       "      <th></th>\n",
       "      <th></th>\n",
       "      <th></th>\n",
       "      <th></th>\n",
       "    </tr>\n",
       "  </thead>\n",
       "  <tbody>\n",
       "    <tr>\n",
       "      <th>0</th>\n",
       "      <td>1000.0</td>\n",
       "      <td>85.42100</td>\n",
       "      <td>50.649730</td>\n",
       "      <td>12.0</td>\n",
       "      <td>49.0</td>\n",
       "      <td>74.0</td>\n",
       "      <td>106.0</td>\n",
       "      <td>300.0</td>\n",
       "    </tr>\n",
       "    <tr>\n",
       "      <th>1</th>\n",
       "      <td>995.0</td>\n",
       "      <td>109.59196</td>\n",
       "      <td>73.288331</td>\n",
       "      <td>10.0</td>\n",
       "      <td>53.0</td>\n",
       "      <td>89.0</td>\n",
       "      <td>145.5</td>\n",
       "      <td>300.0</td>\n",
       "    </tr>\n",
       "  </tbody>\n",
       "</table>\n",
       "</div>"
      ],
      "text/plain": [
       "            count       mean        std   min   25%   50%    75%    max\n",
       "subreddit                                                              \n",
       "0          1000.0   85.42100  50.649730  12.0  49.0  74.0  106.0  300.0\n",
       "1           995.0  109.59196  73.288331  10.0  53.0  89.0  145.5  300.0"
      ]
     },
     "execution_count": 1413,
     "metadata": {},
     "output_type": "execute_result"
    }
   ],
   "source": [
    "df.groupby('subreddit').describe()['title_length']"
   ]
  },
  {
   "cell_type": "code",
   "execution_count": 1414,
   "metadata": {},
   "outputs": [
    {
     "data": {
      "text/html": [
       "<div>\n",
       "<style scoped>\n",
       "    .dataframe tbody tr th:only-of-type {\n",
       "        vertical-align: middle;\n",
       "    }\n",
       "\n",
       "    .dataframe tbody tr th {\n",
       "        vertical-align: top;\n",
       "    }\n",
       "\n",
       "    .dataframe thead th {\n",
       "        text-align: right;\n",
       "    }\n",
       "</style>\n",
       "<table border=\"1\" class=\"dataframe\">\n",
       "  <thead>\n",
       "    <tr style=\"text-align: right;\">\n",
       "      <th></th>\n",
       "      <th>count</th>\n",
       "      <th>mean</th>\n",
       "      <th>std</th>\n",
       "      <th>min</th>\n",
       "      <th>25%</th>\n",
       "      <th>50%</th>\n",
       "      <th>75%</th>\n",
       "      <th>max</th>\n",
       "    </tr>\n",
       "    <tr>\n",
       "      <th>subreddit</th>\n",
       "      <th></th>\n",
       "      <th></th>\n",
       "      <th></th>\n",
       "      <th></th>\n",
       "      <th></th>\n",
       "      <th></th>\n",
       "      <th></th>\n",
       "      <th></th>\n",
       "    </tr>\n",
       "  </thead>\n",
       "  <tbody>\n",
       "    <tr>\n",
       "      <th>0</th>\n",
       "      <td>1000.0</td>\n",
       "      <td>2850.18100</td>\n",
       "      <td>4641.502812</td>\n",
       "      <td>0.0</td>\n",
       "      <td>679.5</td>\n",
       "      <td>1392.0</td>\n",
       "      <td>2729.25</td>\n",
       "      <td>39980.0</td>\n",
       "    </tr>\n",
       "    <tr>\n",
       "      <th>1</th>\n",
       "      <td>995.0</td>\n",
       "      <td>328.38191</td>\n",
       "      <td>1138.890270</td>\n",
       "      <td>0.0</td>\n",
       "      <td>0.0</td>\n",
       "      <td>0.0</td>\n",
       "      <td>118.50</td>\n",
       "      <td>14078.0</td>\n",
       "    </tr>\n",
       "  </tbody>\n",
       "</table>\n",
       "</div>"
      ],
      "text/plain": [
       "            count        mean          std  min    25%     50%      75%  \\\n",
       "subreddit                                                                 \n",
       "0          1000.0  2850.18100  4641.502812  0.0  679.5  1392.0  2729.25   \n",
       "1           995.0   328.38191  1138.890270  0.0    0.0     0.0   118.50   \n",
       "\n",
       "               max  \n",
       "subreddit           \n",
       "0          39980.0  \n",
       "1          14078.0  "
      ]
     },
     "execution_count": 1414,
     "metadata": {},
     "output_type": "execute_result"
    }
   ],
   "source": [
    "df.groupby('subreddit').describe()['body_length']"
   ]
  },
  {
   "cell_type": "code",
   "execution_count": 1415,
   "metadata": {},
   "outputs": [
    {
     "data": {
      "text/html": [
       "<div>\n",
       "<style scoped>\n",
       "    .dataframe tbody tr th:only-of-type {\n",
       "        vertical-align: middle;\n",
       "    }\n",
       "\n",
       "    .dataframe tbody tr th {\n",
       "        vertical-align: top;\n",
       "    }\n",
       "\n",
       "    .dataframe thead th {\n",
       "        text-align: right;\n",
       "    }\n",
       "</style>\n",
       "<table border=\"1\" class=\"dataframe\">\n",
       "  <thead>\n",
       "    <tr style=\"text-align: right;\">\n",
       "      <th></th>\n",
       "      <th>count</th>\n",
       "      <th>mean</th>\n",
       "      <th>std</th>\n",
       "      <th>min</th>\n",
       "      <th>25%</th>\n",
       "      <th>50%</th>\n",
       "      <th>75%</th>\n",
       "      <th>max</th>\n",
       "    </tr>\n",
       "    <tr>\n",
       "      <th>subreddit</th>\n",
       "      <th></th>\n",
       "      <th></th>\n",
       "      <th></th>\n",
       "      <th></th>\n",
       "      <th></th>\n",
       "      <th></th>\n",
       "      <th></th>\n",
       "      <th></th>\n",
       "    </tr>\n",
       "  </thead>\n",
       "  <tbody>\n",
       "    <tr>\n",
       "      <th>0</th>\n",
       "      <td>1000.0</td>\n",
       "      <td>14.824000</td>\n",
       "      <td>8.917766</td>\n",
       "      <td>2.0</td>\n",
       "      <td>9.0</td>\n",
       "      <td>13.0</td>\n",
       "      <td>18.0</td>\n",
       "      <td>55.0</td>\n",
       "    </tr>\n",
       "    <tr>\n",
       "      <th>1</th>\n",
       "      <td>995.0</td>\n",
       "      <td>18.962814</td>\n",
       "      <td>13.112715</td>\n",
       "      <td>2.0</td>\n",
       "      <td>9.0</td>\n",
       "      <td>15.0</td>\n",
       "      <td>25.0</td>\n",
       "      <td>62.0</td>\n",
       "    </tr>\n",
       "  </tbody>\n",
       "</table>\n",
       "</div>"
      ],
      "text/plain": [
       "            count       mean        std  min  25%   50%   75%   max\n",
       "subreddit                                                          \n",
       "0          1000.0  14.824000   8.917766  2.0  9.0  13.0  18.0  55.0\n",
       "1           995.0  18.962814  13.112715  2.0  9.0  15.0  25.0  62.0"
      ]
     },
     "execution_count": 1415,
     "metadata": {},
     "output_type": "execute_result"
    }
   ],
   "source": [
    "df.groupby('subreddit').describe()['title_word_count']"
   ]
  },
  {
   "cell_type": "code",
   "execution_count": 1416,
   "metadata": {
    "scrolled": true
   },
   "outputs": [
    {
     "data": {
      "text/html": [
       "<div>\n",
       "<style scoped>\n",
       "    .dataframe tbody tr th:only-of-type {\n",
       "        vertical-align: middle;\n",
       "    }\n",
       "\n",
       "    .dataframe tbody tr th {\n",
       "        vertical-align: top;\n",
       "    }\n",
       "\n",
       "    .dataframe thead th {\n",
       "        text-align: right;\n",
       "    }\n",
       "</style>\n",
       "<table border=\"1\" class=\"dataframe\">\n",
       "  <thead>\n",
       "    <tr style=\"text-align: right;\">\n",
       "      <th></th>\n",
       "      <th>count</th>\n",
       "      <th>mean</th>\n",
       "      <th>std</th>\n",
       "      <th>min</th>\n",
       "      <th>25%</th>\n",
       "      <th>50%</th>\n",
       "      <th>75%</th>\n",
       "      <th>max</th>\n",
       "    </tr>\n",
       "    <tr>\n",
       "      <th>subreddit</th>\n",
       "      <th></th>\n",
       "      <th></th>\n",
       "      <th></th>\n",
       "      <th></th>\n",
       "      <th></th>\n",
       "      <th></th>\n",
       "      <th></th>\n",
       "      <th></th>\n",
       "    </tr>\n",
       "  </thead>\n",
       "  <tbody>\n",
       "    <tr>\n",
       "      <th>0</th>\n",
       "      <td>1000.0</td>\n",
       "      <td>459.235000</td>\n",
       "      <td>751.173468</td>\n",
       "      <td>0.0</td>\n",
       "      <td>103.0</td>\n",
       "      <td>211.0</td>\n",
       "      <td>444.25</td>\n",
       "      <td>7048.0</td>\n",
       "    </tr>\n",
       "    <tr>\n",
       "      <th>1</th>\n",
       "      <td>995.0</td>\n",
       "      <td>40.253266</td>\n",
       "      <td>158.675650</td>\n",
       "      <td>0.0</td>\n",
       "      <td>0.0</td>\n",
       "      <td>0.0</td>\n",
       "      <td>16.00</td>\n",
       "      <td>2520.0</td>\n",
       "    </tr>\n",
       "  </tbody>\n",
       "</table>\n",
       "</div>"
      ],
      "text/plain": [
       "            count        mean         std  min    25%    50%     75%     max\n",
       "subreddit                                                                   \n",
       "0          1000.0  459.235000  751.173468  0.0  103.0  211.0  444.25  7048.0\n",
       "1           995.0   40.253266  158.675650  0.0    0.0    0.0   16.00  2520.0"
      ]
     },
     "execution_count": 1416,
     "metadata": {},
     "output_type": "execute_result"
    }
   ],
   "source": [
    "df.groupby('subreddit').describe()['body_word_count']"
   ]
  },
  {
   "cell_type": "markdown",
   "metadata": {},
   "source": [
    "#### Question Mark"
   ]
  },
  {
   "cell_type": "code",
   "execution_count": 1417,
   "metadata": {},
   "outputs": [],
   "source": [
    "df['title_question_mark']=df['title'].str.find('?').map({-1:0}).replace(np.nan,1)"
   ]
  },
  {
   "cell_type": "code",
   "execution_count": 1418,
   "metadata": {},
   "outputs": [],
   "source": [
    "df['body_question_mark']=df['body'].str.find('?').map({-1:0}).replace(np.nan,1)"
   ]
  },
  {
   "cell_type": "code",
   "execution_count": 1419,
   "metadata": {},
   "outputs": [
    {
     "data": {
      "text/plain": [
       "subreddit\n",
       "0    388.0\n",
       "1     51.0\n",
       "Name: title_question_mark, dtype: float64"
      ]
     },
     "execution_count": 1419,
     "metadata": {},
     "output_type": "execute_result"
    }
   ],
   "source": [
    "df.groupby('subreddit').sum()['title_question_mark']"
   ]
  },
  {
   "cell_type": "code",
   "execution_count": 1420,
   "metadata": {},
   "outputs": [
    {
     "data": {
      "text/plain": [
       "subreddit\n",
       "0    604.0\n",
       "1    100.0\n",
       "Name: body_question_mark, dtype: float64"
      ]
     },
     "execution_count": 1420,
     "metadata": {},
     "output_type": "execute_result"
    }
   ],
   "source": [
    "df.groupby('subreddit').sum()['body_question_mark']"
   ]
  },
  {
   "cell_type": "code",
   "execution_count": 1421,
   "metadata": {},
   "outputs": [],
   "source": [
    "#df.drop(columns=['body_question_mark','title_question_mark'],inplace=True)"
   ]
  },
  {
   "cell_type": "markdown",
   "metadata": {},
   "source": [
    "Notice, posts from NBADiscussion have a higher chance of containing a '?' then those from NBA. \n",
    "* NBADiscussion = 39% of titles have a question mark\n",
    "* NBA = 5.1% of titles have a question mark\n",
    "\n",
    "* NBADiscussion = 60.7% of post body have a question mark\n",
    "* NBA = 10% of post body have a question mark\n",
    "\n",
    "The discrepancy in question mark counts in post body's could be due to the fact that body word counts in NBADiscussion are so much highter. "
   ]
  },
  {
   "cell_type": "markdown",
   "metadata": {},
   "source": [
    "#### Exclamation Mark"
   ]
  },
  {
   "cell_type": "code",
   "execution_count": 1422,
   "metadata": {},
   "outputs": [],
   "source": [
    "df['title_exclamation_mark']=df['title'].str.find('!').map({-1:0}).replace(np.nan,1)"
   ]
  },
  {
   "cell_type": "code",
   "execution_count": 1423,
   "metadata": {},
   "outputs": [],
   "source": [
    "df['body_exclamation_mark']=df['body'].str.find('!').map({-1:0}).replace(np.nan,1)"
   ]
  },
  {
   "cell_type": "code",
   "execution_count": 1424,
   "metadata": {},
   "outputs": [
    {
     "data": {
      "text/plain": [
       "subreddit\n",
       "0     8.0\n",
       "1    45.0\n",
       "Name: title_exclamation_mark, dtype: float64"
      ]
     },
     "execution_count": 1424,
     "metadata": {},
     "output_type": "execute_result"
    }
   ],
   "source": [
    "df.groupby('subreddit').sum()['title_exclamation_mark']"
   ]
  },
  {
   "cell_type": "code",
   "execution_count": 1425,
   "metadata": {},
   "outputs": [
    {
     "data": {
      "text/plain": [
       "subreddit\n",
       "0    129.0\n",
       "1     42.0\n",
       "Name: body_exclamation_mark, dtype: float64"
      ]
     },
     "execution_count": 1425,
     "metadata": {},
     "output_type": "execute_result"
    }
   ],
   "source": [
    "df.groupby('subreddit').sum()['body_exclamation_mark']"
   ]
  },
  {
   "cell_type": "code",
   "execution_count": 1426,
   "metadata": {},
   "outputs": [],
   "source": [
    "#df.drop(columns=['body_exclamation_mark','title_exclamation_mark'],inplace=True)"
   ]
  },
  {
   "cell_type": "markdown",
   "metadata": {},
   "source": [
    "Exclamation marks are more likely to occurr in the title of NBA posts but in the body of posts, exclamation marks are more likely to be found in NBADiscussion. The high number of exclamation marks in the body could just be due to the high character count of NBADiscussion posts. "
   ]
  },
  {
   "cell_type": "markdown",
   "metadata": {},
   "source": [
    "#### Period"
   ]
  },
  {
   "cell_type": "code",
   "execution_count": 1427,
   "metadata": {},
   "outputs": [],
   "source": [
    "df['title_period']=df['title'].str.find('.').map({-1:0}).replace(np.nan,1)"
   ]
  },
  {
   "cell_type": "code",
   "execution_count": 1428,
   "metadata": {},
   "outputs": [],
   "source": [
    "df['body_period']=df['body'].str.find('.').map({-1:0}).replace(np.nan,1)"
   ]
  },
  {
   "cell_type": "code",
   "execution_count": 1429,
   "metadata": {},
   "outputs": [
    {
     "data": {
      "text/plain": [
       "subreddit\n",
       "0    237.0\n",
       "1    447.0\n",
       "Name: title_period, dtype: float64"
      ]
     },
     "execution_count": 1429,
     "metadata": {},
     "output_type": "execute_result"
    }
   ],
   "source": [
    "df.groupby('subreddit').sum()['title_period']"
   ]
  },
  {
   "cell_type": "code",
   "execution_count": 1430,
   "metadata": {
    "scrolled": true
   },
   "outputs": [
    {
     "data": {
      "text/plain": [
       "subreddit\n",
       "0    953.0\n",
       "1    258.0\n",
       "Name: body_period, dtype: float64"
      ]
     },
     "execution_count": 1430,
     "metadata": {},
     "output_type": "execute_result"
    }
   ],
   "source": [
    "df.groupby('subreddit').sum()['body_period']"
   ]
  },
  {
   "cell_type": "code",
   "execution_count": 1431,
   "metadata": {},
   "outputs": [],
   "source": [
    "#df.drop(columns=['body_period','title_period'],inplace=True)"
   ]
  },
  {
   "cell_type": "markdown",
   "metadata": {},
   "source": [
    "Periods are more likely to occurr in the title of NBA posts but in the body of posts, periods are more likely to be found in NBADiscussion. The high number of periods in the body could just be due to the high character count of NBADiscussion posts."
   ]
  },
  {
   "cell_type": "markdown",
   "metadata": {},
   "source": [
    "# T-test"
   ]
  },
  {
   "cell_type": "markdown",
   "metadata": {},
   "source": [
    "Run t-test on lengths and words counts to see if there is a statistically significant difference between the two subreddits.\n",
    "* significance level: 𝛼=0.05\n",
    "* null hypothesis: \n",
    "    * There is no significant difference in character length of subreddit post titles and post body text between subreddits. \n",
    "    * There is no significant difference in word counts of subreddit post titles and post body text between subreddits."
   ]
  },
  {
   "cell_type": "code",
   "execution_count": 1432,
   "metadata": {},
   "outputs": [],
   "source": [
    "import scipy.stats\n",
    "from scipy import stats"
   ]
  },
  {
   "cell_type": "code",
   "execution_count": 1433,
   "metadata": {},
   "outputs": [],
   "source": [
    "def t_test(char):\n",
    "    return stats.ttest_ind(df[df['subreddit']==0][char],\n",
    "                           df[df['subreddit']==1][char],\n",
    "                           equal_var=False)"
   ]
  },
  {
   "cell_type": "code",
   "execution_count": 1434,
   "metadata": {},
   "outputs": [
    {
     "name": "stdout",
     "output_type": "stream",
     "text": [
      "Ttest_indResult(statistic=-8.565251509049954, pvalue=2.3094744995393926e-17)\n",
      "Ttest_indResult(statistic=16.68378511328246, pvalue=5.577696431562364e-56)\n",
      "Ttest_indResult(statistic=-8.239258748172793, pvalue=3.354340021679087e-16)\n",
      "Ttest_indResult(statistic=17.255551768772598, pvalue=3.651058982683865e-59)\n"
     ]
    }
   ],
   "source": [
    "print(t_test('title_length'))\n",
    "print(t_test('body_length'))\n",
    "print(t_test('title_word_count'))\n",
    "print(t_test('body_word_count'))"
   ]
  },
  {
   "cell_type": "markdown",
   "metadata": {},
   "source": [
    "There is a statistically significant difference between subreddits in terms of lengths and word counts of titles and body of posts. "
   ]
  },
  {
   "cell_type": "code",
   "execution_count": 1435,
   "metadata": {},
   "outputs": [
    {
     "data": {
      "image/png": "[encoded data removed]",
      "text/plain": [
       "<Figure size 432x288 with 1 Axes>"
      ]
     },
     "metadata": {
      "needs_background": "light"
     },
     "output_type": "display_data"
    }
   ],
   "source": [
    "\n",
    "sns.distplot(df['body_word_count'][df['subreddit']==0],kde=False);"
   ]
  },
  {
   "cell_type": "code",
   "execution_count": 1436,
   "metadata": {},
   "outputs": [
    {
     "data": {
      "image/png": "[encoded data removed]",
      "text/plain": [
       "<Figure size 432x288 with 1 Axes>"
      ]
     },
     "metadata": {
      "needs_background": "light"
     },
     "output_type": "display_data"
    }
   ],
   "source": [
    "sns.distplot(df['body_word_count'][df['subreddit']==1],kde=False);"
   ]
  },
  {
   "cell_type": "code",
   "execution_count": 1465,
   "metadata": {},
   "outputs": [
    {
     "data": {
      "text/plain": [
       "<matplotlib.legend.Legend at 0x177727535e0>"
      ]
     },
     "execution_count": 1465,
     "metadata": {},
     "output_type": "execute_result"
    },
    {
     "data": {
      "image/png": "[encoded data removed]",
      "text/plain": [
       "<Figure size 432x288 with 1 Axes>"
      ]
     },
     "metadata": {
      "needs_background": "light"
     },
     "output_type": "display_data"
    }
   ],
   "source": [
    "sns.scatterplot('body_word_count','subreddit',data=df,hue='subreddit')\n",
    "\n",
    "plt.title('Word Count of Post Body')\n",
    "plt.xlabel('Word Count')\n",
    "plt.ylabel('Subreddit')\n",
    "plt.legend(labels=['NBA','NBADiscussion'],loc='center right')"
   ]
  },
  {
   "cell_type": "code",
   "execution_count": 1438,
   "metadata": {
    "scrolled": true
   },
   "outputs": [
    {
     "data": {
      "image/png": "[encoded data removed]",
      "text/plain": [
       "<Figure size 432x288 with 1 Axes>"
      ]
     },
     "metadata": {
      "needs_background": "light"
     },
     "output_type": "display_data"
    }
   ],
   "source": [
    "sns.scatterplot('title_word_count','subreddit',data=df,hue='subreddit')\n",
    "plt.title('Word Count of Title')\n",
    "plt.xlabel('Word Count')\n",
    "plt.ylabel('Subreddit')\n",
    "plt.legend(labels=['NBA','NBADiscussion']);"
   ]
  },
  {
   "cell_type": "code",
   "execution_count": 1464,
   "metadata": {},
   "outputs": [
    {
     "data": {
      "image/png": "[encoded data removed]",
      "text/plain": [
       "<Figure size 432x288 with 2 Axes>"
      ]
     },
     "metadata": {
      "needs_background": "light"
     },
     "output_type": "display_data"
    }
   ],
   "source": [
    "corr=df[['subreddit','title_length', 'title_word_count','body_length','body_word_count','title_question_mark','body_question_mark','title_exclamation_mark','body_exclamation_mark','title_period','body_period']].corr()\n",
    "sns.heatmap(corr[['subreddit']],vmin=-1,vmax=1,annot=True)\n",
    "plt.title('Word Count and Char Length Heat Map');"
   ]
  },
  {
   "cell_type": "markdown",
   "metadata": {},
   "source": [
    "#### Note:  \n",
    "* title length/word count is positively correlated with the subreddit (longer titles mean its more likely to belong to NBA subreddit) \n",
    "* body length/word count is negative correlated with the subreddit (longer body text means its more likely to be long to NBADiscussion subreddit)\n",
    "\n",
    "Use body word count and title word count for analysis instead of length values because word count and length are highly correlated. Using word count instead of length values because it is easier to interpret word count.\n",
    "\n",
    "Punctuation seems to be highly correlated with subreddits. Question marks in titles and periods in body paragraphs are highly correlated with NBADiscussion while periods in the title lean towards NBA.  \n"
   ]
  },
  {
   "cell_type": "code",
   "execution_count": 1440,
   "metadata": {},
   "outputs": [
    {
     "data": {
      "text/plain": [
       "subreddit\n",
       "0     39\n",
       "1    731\n",
       "Name: body, dtype: int64"
      ]
     },
     "execution_count": 1440,
     "metadata": {},
     "output_type": "execute_result"
    }
   ],
   "source": [
    "df[df['body_length']==0].groupby('subreddit').count()['body']"
   ]
  },
  {
   "cell_type": "markdown",
   "metadata": {},
   "source": [
    "Out of 1000 posts in NBA, 731 have an empty body compared to only 39 out of the 995 NBADiscussion posts. Note that NBADiscussion has a minimum body char length of 350."
   ]
  },
  {
   "cell_type": "markdown",
   "metadata": {},
   "source": [
    "# Modeling"
   ]
  },
  {
   "cell_type": "code",
   "execution_count": 1441,
   "metadata": {},
   "outputs": [],
   "source": [
    "X=df.drop(columns=['subreddit','index','body','title','title_length', 'body_length',\n",
    "       'title_and_body_length', 'title_and_body_word_count'])\n",
    "y=df['subreddit']"
   ]
  },
  {
   "cell_type": "code",
   "execution_count": 1442,
   "metadata": {},
   "outputs": [],
   "source": [
    "from sklearn.feature_extraction.text import CountVectorizer, TfidfVectorizer\n",
    "from sklearn.naive_bayes import MultinomialNB\n",
    "from sklearn.model_selection import train_test_split, GridSearchCV,StratifiedKFold\n",
    "from sklearn.neighbors import KNeighborsClassifier\n",
    "from sklearn.preprocessing import StandardScaler\n",
    "from sklearn.pipeline import Pipeline\n",
    "from sklearn.linear_model import LogisticRegression,LogisticRegressionCV"
   ]
  },
  {
   "cell_type": "code",
   "execution_count": 1443,
   "metadata": {},
   "outputs": [],
   "source": [
    "X_train,X_test,y_train,y_test=train_test_split(X,y,stratify=y, random_state=42)"
   ]
  },
  {
   "cell_type": "code",
   "execution_count": 1444,
   "metadata": {},
   "outputs": [],
   "source": [
    "from nltk import word_tokenize          \n",
    "from nltk.stem import WordNetLemmatizer \n",
    "class LemmaTokenizer:\n",
    "    def __init__(self):\n",
    "        self.wnl = WordNetLemmatizer()\n",
    "    def __call__(self, doc):\n",
    "        return [self.wnl.lemmatize(t) for t in word_tokenize(doc)]"
   ]
  },
  {
   "cell_type": "code",
   "execution_count": 1488,
   "metadata": {},
   "outputs": [],
   "source": [
    "cvec=CountVectorizer(tokenizer=LemmaTokenizer(),stop_words='english')"
   ]
  },
  {
   "cell_type": "code",
   "execution_count": 1446,
   "metadata": {},
   "outputs": [
    {
     "name": "stderr",
     "output_type": "stream",
     "text": [
      "C:\\Users\\smoha.LAPTOP-D47U0QA5\\anaconda3\\lib\\site-packages\\sklearn\\feature_extraction\\text.py:484: UserWarning: The parameter 'token_pattern' will not be used since 'tokenizer' is not None'\n",
      "  warnings.warn(\"The parameter 'token_pattern' will not be used\"\n"
     ]
    }
   ],
   "source": [
    "cvec.fit(X_train['title_and_body'])\n",
    "X_train_c=cvec.transform(X_train['title_and_body'])\n",
    "X_test_c=cvec.transform(X_test['title_and_body'])\n",
    "X_train_c=pd.DataFrame(X_train_c.todense(),columns=cvec.get_feature_names(),index=X_train.index)\n",
    "X_test_c=pd.DataFrame(X_test_c.todense(),columns=cvec.get_feature_names(),index=X_test.index)"
   ]
  },
  {
   "cell_type": "code",
   "execution_count": 1447,
   "metadata": {},
   "outputs": [],
   "source": [
    "# tv=TfidfVectorizer()\n",
    "\n",
    "# tv.fit(X_train['title_and_body'])\n",
    "# X_train_t=tv.transform(X_train['title_and_body'])\n",
    "# X_test_t=tv.transform(X_test['title_and_body'])\n",
    "# X_train_t=pd.DataFrame(X_train_t.todense(),columns=cvec.get_feature_names(),index=X_train.index)\n",
    "# X_test_t=pd.DataFrame(X_test_t.todense(),columns=cvec.get_feature_names(),index=X_test.index)"
   ]
  },
  {
   "cell_type": "markdown",
   "metadata": {},
   "source": [
    "Used TfidfVectorizer but did not see much improvement in scores."
   ]
  },
  {
   "cell_type": "code",
   "execution_count": 1448,
   "metadata": {},
   "outputs": [
    {
     "data": {
      "image/png": "[encoded data removed]",
      "text/plain": [
       "<Figure size 432x288 with 1 Axes>"
      ]
     },
     "metadata": {
      "needs_background": "light"
     },
     "output_type": "display_data"
    }
   ],
   "source": [
    "X_train_c[X_train_c['subreddit']==0].sum(). \\\n",
    "sort_values(ascending=False).head(10).plot(kind='barh');"
   ]
  },
  {
   "cell_type": "code",
   "execution_count": 1449,
   "metadata": {},
   "outputs": [
    {
     "data": {
      "image/png": "[encoded data removed]",
      "text/plain": [
       "<Figure size 432x288 with 1 Axes>"
      ]
     },
     "metadata": {
      "needs_background": "light"
     },
     "output_type": "display_data"
    }
   ],
   "source": [
    "X_train_c[X_train_c['subreddit']==1].sum(). \\\n",
    "sort_values(ascending=False).head(10).plot(kind='barh');"
   ]
  },
  {
   "cell_type": "markdown",
   "metadata": {},
   "source": [
    "# KNN"
   ]
  },
  {
   "cell_type": "code",
   "execution_count": 1450,
   "metadata": {},
   "outputs": [],
   "source": [
    "# X_train=X_train.drop(columns=['index','title','body','title_and_body'])\n",
    "# y_train=y_train.drop(columns=['index','title','body','title_and_body'])\n",
    "\n",
    "# X_test=X_test.drop(columns=['index','title','body','title_and_body'])\n",
    "# y_test=y_test.drop(columns=['index','title','body','title_and_body'])"
   ]
  },
  {
   "cell_type": "code",
   "execution_count": 1451,
   "metadata": {},
   "outputs": [],
   "source": [
    "X_train_cvec=X_train.drop(columns='title_and_body').merge(X_train_c,left_index=True,right_index=True)\n",
    "X_test_cvec=X_test.drop(columns='title_and_body').merge(X_test_c,left_index=True,right_index=True)"
   ]
  },
  {
   "cell_type": "code",
   "execution_count": 1452,
   "metadata": {},
   "outputs": [],
   "source": [
    "X_train_tv=X_train.drop(columns='title_and_body').merge(X_train_t,left_index=True,right_index=True)\n",
    "X_test_tv=X_test.drop(columns='title_and_body').merge(X_test_t,left_index=True,right_index=True)"
   ]
  },
  {
   "cell_type": "code",
   "execution_count": 1476,
   "metadata": {},
   "outputs": [],
   "source": [
    "sc=StandardScaler()\n",
    "X_train_cvec_sc=sc.fit_transform(X_train_cvec)\n",
    "X_test_cvec_sc=sc.transform(X_test_cvec)"
   ]
  },
  {
   "cell_type": "markdown",
   "metadata": {},
   "source": [
    "Standard Scaler did not improve accuracy scores."
   ]
  },
  {
   "cell_type": "code",
   "execution_count": 1199,
   "metadata": {},
   "outputs": [
    {
     "data": {
      "text/plain": [
       "(0.9124331550802139, 0.8817635270541082)"
      ]
     },
     "execution_count": 1199,
     "metadata": {},
     "output_type": "execute_result"
    }
   ],
   "source": [
    "knn=KNeighborsClassifier()\n",
    "\n",
    "knn.fit(X_train.drop(columns='title_and_body'),y_train)\n",
    "\n",
    "knn.score(X_train.drop(columns='title_and_body'),y_train),knn.score(X_test.drop(columns='title_and_body'),y_test)"
   ]
  },
  {
   "cell_type": "code",
   "execution_count": 1200,
   "metadata": {},
   "outputs": [
    {
     "data": {
      "text/plain": [
       "(0.8883689839572193, 0.8416833667334669)"
      ]
     },
     "execution_count": 1200,
     "metadata": {},
     "output_type": "execute_result"
    }
   ],
   "source": [
    "knn=KNeighborsClassifier()\n",
    "\n",
    "knn.fit(X_train_c,y_train)\n",
    "\n",
    "knn.score(X_train_c,y_train),knn.score(X_test_c,y_test)"
   ]
  },
  {
   "cell_type": "code",
   "execution_count": 1201,
   "metadata": {},
   "outputs": [
    {
     "data": {
      "text/plain": [
       "(0.9191176470588235, 0.8817635270541082)"
      ]
     },
     "execution_count": 1201,
     "metadata": {},
     "output_type": "execute_result"
    }
   ],
   "source": [
    "knn=KNeighborsClassifier()\n",
    "\n",
    "knn.fit(X_train_cvec,y_train)\n",
    "\n",
    "knn.score(X_train_cvec,y_train),knn.score(X_test_cvec,y_test)"
   ]
  },
  {
   "cell_type": "markdown",
   "metadata": {},
   "source": [
    "# Logistic Regression"
   ]
  },
  {
   "cell_type": "code",
   "execution_count": 975,
   "metadata": {},
   "outputs": [
    {
     "data": {
      "text/plain": [
       "(0.838903743315508, 0.8276553106212425)"
      ]
     },
     "execution_count": 975,
     "metadata": {},
     "output_type": "execute_result"
    }
   ],
   "source": [
    "lr=LogisticRegressionCV(max_iter=10000)\n",
    "lr.fit(X_train.drop(columns='title_and_body'),y_train)\n",
    "lr.score(X_train.drop(columns='title_and_body'),y_train),lr.score(X_test.drop(columns='title_and_body'),y_test)"
   ]
  },
  {
   "cell_type": "code",
   "execution_count": 1030,
   "metadata": {},
   "outputs": [
    {
     "data": {
      "text/plain": [
       "(0.9899732620320856, 0.8977955911823647)"
      ]
     },
     "execution_count": 1030,
     "metadata": {},
     "output_type": "execute_result"
    }
   ],
   "source": [
    "lr=LogisticRegressionCV(max_iter=1000)\n",
    "lr.fit(X_train_c,y_train)\n",
    "lr.score(X_train_c,y_train),lr.score(X_test_c,y_test)"
   ]
  },
  {
   "cell_type": "code",
   "execution_count": 1477,
   "metadata": {},
   "outputs": [
    {
     "data": {
      "text/plain": [
       "(1.0, 0.8797595190380761)"
      ]
     },
     "execution_count": 1477,
     "metadata": {},
     "output_type": "execute_result"
    }
   ],
   "source": [
    "lr=LogisticRegressionCV(max_iter=10000)\n",
    "lr.fit(X_train_cvec,y_train)\n",
    "lr.score(X_train_cvec,y_train),lr.score(X_test_cvec,y_test)"
   ]
  },
  {
   "cell_type": "code",
   "execution_count": 1458,
   "metadata": {},
   "outputs": [
    {
     "name": "stderr",
     "output_type": "stream",
     "text": [
      "C:\\Users\\smoha.LAPTOP-D47U0QA5\\anaconda3\\lib\\site-packages\\sklearn\\model_selection\\_validation.py:548: FitFailedWarning: Estimator fit failed. The score on this train-test partition for these parameters will be set to nan. Details: \n",
      "Traceback (most recent call last):\n",
      "  File \"C:\\Users\\smoha.LAPTOP-D47U0QA5\\anaconda3\\lib\\site-packages\\sklearn\\model_selection\\_validation.py\", line 531, in _fit_and_score\n",
      "    estimator.fit(X_train, y_train, **fit_params)\n",
      "  File \"C:\\Users\\smoha.LAPTOP-D47U0QA5\\anaconda3\\lib\\site-packages\\sklearn\\linear_model\\_logistic.py\", line 1885, in fit\n",
      "    fold_coefs_ = Parallel(n_jobs=self.n_jobs, verbose=self.verbose,\n",
      "  File \"C:\\Users\\smoha.LAPTOP-D47U0QA5\\anaconda3\\lib\\site-packages\\joblib\\parallel.py\", line 1029, in __call__\n",
      "    if self.dispatch_one_batch(iterator):\n",
      "  File \"C:\\Users\\smoha.LAPTOP-D47U0QA5\\anaconda3\\lib\\site-packages\\joblib\\parallel.py\", line 847, in dispatch_one_batch\n",
      "    self._dispatch(tasks)\n",
      "  File \"C:\\Users\\smoha.LAPTOP-D47U0QA5\\anaconda3\\lib\\site-packages\\joblib\\parallel.py\", line 765, in _dispatch\n",
      "    job = self._backend.apply_async(batch, callback=cb)\n",
      "  File \"C:\\Users\\smoha.LAPTOP-D47U0QA5\\anaconda3\\lib\\site-packages\\joblib\\_parallel_backends.py\", line 208, in apply_async\n",
      "    result = ImmediateResult(func)\n",
      "  File \"C:\\Users\\smoha.LAPTOP-D47U0QA5\\anaconda3\\lib\\site-packages\\joblib\\_parallel_backends.py\", line 572, in __init__\n",
      "    self.results = batch()\n",
      "  File \"C:\\Users\\smoha.LAPTOP-D47U0QA5\\anaconda3\\lib\\site-packages\\joblib\\parallel.py\", line 252, in __call__\n",
      "    return [func(*args, **kwargs)\n",
      "  File \"C:\\Users\\smoha.LAPTOP-D47U0QA5\\anaconda3\\lib\\site-packages\\joblib\\parallel.py\", line 252, in <listcomp>\n",
      "    return [func(*args, **kwargs)\n",
      "  File \"C:\\Users\\smoha.LAPTOP-D47U0QA5\\anaconda3\\lib\\site-packages\\sklearn\\linear_model\\_logistic.py\", line 965, in _log_reg_scoring_path\n",
      "    coefs, Cs, n_iter = _logistic_regression_path(\n",
      "  File \"C:\\Users\\smoha.LAPTOP-D47U0QA5\\anaconda3\\lib\\site-packages\\sklearn\\linear_model\\_logistic.py\", line 752, in _logistic_regression_path\n",
      "    n_iter = np.zeros(len(Cs), dtype=np.int32)\n",
      "TypeError: object of type 'float' has no len()\n",
      "\n",
      "  warnings.warn(\"Estimator fit failed. The score on this train-test\"\n",
      "C:\\Users\\smoha.LAPTOP-D47U0QA5\\anaconda3\\lib\\site-packages\\sklearn\\model_selection\\_validation.py:548: FitFailedWarning: Estimator fit failed. The score on this train-test partition for these parameters will be set to nan. Details: \n",
      "Traceback (most recent call last):\n",
      "  File \"C:\\Users\\smoha.LAPTOP-D47U0QA5\\anaconda3\\lib\\site-packages\\sklearn\\model_selection\\_validation.py\", line 531, in _fit_and_score\n",
      "    estimator.fit(X_train, y_train, **fit_params)\n",
      "  File \"C:\\Users\\smoha.LAPTOP-D47U0QA5\\anaconda3\\lib\\site-packages\\sklearn\\linear_model\\_logistic.py\", line 1885, in fit\n",
      "    fold_coefs_ = Parallel(n_jobs=self.n_jobs, verbose=self.verbose,\n",
      "  File \"C:\\Users\\smoha.LAPTOP-D47U0QA5\\anaconda3\\lib\\site-packages\\joblib\\parallel.py\", line 1029, in __call__\n",
      "    if self.dispatch_one_batch(iterator):\n",
      "  File \"C:\\Users\\smoha.LAPTOP-D47U0QA5\\anaconda3\\lib\\site-packages\\joblib\\parallel.py\", line 847, in dispatch_one_batch\n",
      "    self._dispatch(tasks)\n",
      "  File \"C:\\Users\\smoha.LAPTOP-D47U0QA5\\anaconda3\\lib\\site-packages\\joblib\\parallel.py\", line 765, in _dispatch\n",
      "    job = self._backend.apply_async(batch, callback=cb)\n",
      "  File \"C:\\Users\\smoha.LAPTOP-D47U0QA5\\anaconda3\\lib\\site-packages\\joblib\\_parallel_backends.py\", line 208, in apply_async\n",
      "    result = ImmediateResult(func)\n",
      "  File \"C:\\Users\\smoha.LAPTOP-D47U0QA5\\anaconda3\\lib\\site-packages\\joblib\\_parallel_backends.py\", line 572, in __init__\n",
      "    self.results = batch()\n",
      "  File \"C:\\Users\\smoha.LAPTOP-D47U0QA5\\anaconda3\\lib\\site-packages\\joblib\\parallel.py\", line 252, in __call__\n",
      "    return [func(*args, **kwargs)\n",
      "  File \"C:\\Users\\smoha.LAPTOP-D47U0QA5\\anaconda3\\lib\\site-packages\\joblib\\parallel.py\", line 252, in <listcomp>\n",
      "    return [func(*args, **kwargs)\n",
      "  File \"C:\\Users\\smoha.LAPTOP-D47U0QA5\\anaconda3\\lib\\site-packages\\sklearn\\linear_model\\_logistic.py\", line 965, in _log_reg_scoring_path\n",
      "    coefs, Cs, n_iter = _logistic_regression_path(\n",
      "  File \"C:\\Users\\smoha.LAPTOP-D47U0QA5\\anaconda3\\lib\\site-packages\\sklearn\\linear_model\\_logistic.py\", line 752, in _logistic_regression_path\n",
      "    n_iter = np.zeros(len(Cs), dtype=np.int32)\n",
      "TypeError: object of type 'float' has no len()\n",
      "\n",
      "  warnings.warn(\"Estimator fit failed. The score on this train-test\"\n",
      "C:\\Users\\smoha.LAPTOP-D47U0QA5\\anaconda3\\lib\\site-packages\\sklearn\\model_selection\\_validation.py:548: FitFailedWarning: Estimator fit failed. The score on this train-test partition for these parameters will be set to nan. Details: \n",
      "Traceback (most recent call last):\n",
      "  File \"C:\\Users\\smoha.LAPTOP-D47U0QA5\\anaconda3\\lib\\site-packages\\sklearn\\model_selection\\_validation.py\", line 531, in _fit_and_score\n",
      "    estimator.fit(X_train, y_train, **fit_params)\n",
      "  File \"C:\\Users\\smoha.LAPTOP-D47U0QA5\\anaconda3\\lib\\site-packages\\sklearn\\linear_model\\_logistic.py\", line 1885, in fit\n",
      "    fold_coefs_ = Parallel(n_jobs=self.n_jobs, verbose=self.verbose,\n",
      "  File \"C:\\Users\\smoha.LAPTOP-D47U0QA5\\anaconda3\\lib\\site-packages\\joblib\\parallel.py\", line 1029, in __call__\n",
      "    if self.dispatch_one_batch(iterator):\n",
      "  File \"C:\\Users\\smoha.LAPTOP-D47U0QA5\\anaconda3\\lib\\site-packages\\joblib\\parallel.py\", line 847, in dispatch_one_batch\n",
      "    self._dispatch(tasks)\n",
      "  File \"C:\\Users\\smoha.LAPTOP-D47U0QA5\\anaconda3\\lib\\site-packages\\joblib\\parallel.py\", line 765, in _dispatch\n",
      "    job = self._backend.apply_async(batch, callback=cb)\n",
      "  File \"C:\\Users\\smoha.LAPTOP-D47U0QA5\\anaconda3\\lib\\site-packages\\joblib\\_parallel_backends.py\", line 208, in apply_async\n",
      "    result = ImmediateResult(func)\n",
      "  File \"C:\\Users\\smoha.LAPTOP-D47U0QA5\\anaconda3\\lib\\site-packages\\joblib\\_parallel_backends.py\", line 572, in __init__\n",
      "    self.results = batch()\n",
      "  File \"C:\\Users\\smoha.LAPTOP-D47U0QA5\\anaconda3\\lib\\site-packages\\joblib\\parallel.py\", line 252, in __call__\n",
      "    return [func(*args, **kwargs)\n",
      "  File \"C:\\Users\\smoha.LAPTOP-D47U0QA5\\anaconda3\\lib\\site-packages\\joblib\\parallel.py\", line 252, in <listcomp>\n",
      "    return [func(*args, **kwargs)\n",
      "  File \"C:\\Users\\smoha.LAPTOP-D47U0QA5\\anaconda3\\lib\\site-packages\\sklearn\\linear_model\\_logistic.py\", line 965, in _log_reg_scoring_path\n",
      "    coefs, Cs, n_iter = _logistic_regression_path(\n",
      "  File \"C:\\Users\\smoha.LAPTOP-D47U0QA5\\anaconda3\\lib\\site-packages\\sklearn\\linear_model\\_logistic.py\", line 752, in _logistic_regression_path\n",
      "    n_iter = np.zeros(len(Cs), dtype=np.int32)\n",
      "TypeError: object of type 'float' has no len()\n",
      "\n",
      "  warnings.warn(\"Estimator fit failed. The score on this train-test\"\n",
      "C:\\Users\\smoha.LAPTOP-D47U0QA5\\anaconda3\\lib\\site-packages\\sklearn\\model_selection\\_validation.py:548: FitFailedWarning: Estimator fit failed. The score on this train-test partition for these parameters will be set to nan. Details: \n",
      "Traceback (most recent call last):\n",
      "  File \"C:\\Users\\smoha.LAPTOP-D47U0QA5\\anaconda3\\lib\\site-packages\\sklearn\\model_selection\\_validation.py\", line 531, in _fit_and_score\n",
      "    estimator.fit(X_train, y_train, **fit_params)\n",
      "  File \"C:\\Users\\smoha.LAPTOP-D47U0QA5\\anaconda3\\lib\\site-packages\\sklearn\\linear_model\\_logistic.py\", line 1885, in fit\n",
      "    fold_coefs_ = Parallel(n_jobs=self.n_jobs, verbose=self.verbose,\n",
      "  File \"C:\\Users\\smoha.LAPTOP-D47U0QA5\\anaconda3\\lib\\site-packages\\joblib\\parallel.py\", line 1029, in __call__\n",
      "    if self.dispatch_one_batch(iterator):\n",
      "  File \"C:\\Users\\smoha.LAPTOP-D47U0QA5\\anaconda3\\lib\\site-packages\\joblib\\parallel.py\", line 847, in dispatch_one_batch\n",
      "    self._dispatch(tasks)\n",
      "  File \"C:\\Users\\smoha.LAPTOP-D47U0QA5\\anaconda3\\lib\\site-packages\\joblib\\parallel.py\", line 765, in _dispatch\n",
      "    job = self._backend.apply_async(batch, callback=cb)\n",
      "  File \"C:\\Users\\smoha.LAPTOP-D47U0QA5\\anaconda3\\lib\\site-packages\\joblib\\_parallel_backends.py\", line 208, in apply_async\n",
      "    result = ImmediateResult(func)\n",
      "  File \"C:\\Users\\smoha.LAPTOP-D47U0QA5\\anaconda3\\lib\\site-packages\\joblib\\_parallel_backends.py\", line 572, in __init__\n",
      "    self.results = batch()\n",
      "  File \"C:\\Users\\smoha.LAPTOP-D47U0QA5\\anaconda3\\lib\\site-packages\\joblib\\parallel.py\", line 252, in __call__\n",
      "    return [func(*args, **kwargs)\n",
      "  File \"C:\\Users\\smoha.LAPTOP-D47U0QA5\\anaconda3\\lib\\site-packages\\joblib\\parallel.py\", line 252, in <listcomp>\n",
      "    return [func(*args, **kwargs)\n",
      "  File \"C:\\Users\\smoha.LAPTOP-D47U0QA5\\anaconda3\\lib\\site-packages\\sklearn\\linear_model\\_logistic.py\", line 965, in _log_reg_scoring_path\n",
      "    coefs, Cs, n_iter = _logistic_regression_path(\n",
      "  File \"C:\\Users\\smoha.LAPTOP-D47U0QA5\\anaconda3\\lib\\site-packages\\sklearn\\linear_model\\_logistic.py\", line 752, in _logistic_regression_path\n",
      "    n_iter = np.zeros(len(Cs), dtype=np.int32)\n",
      "TypeError: object of type 'float' has no len()\n",
      "\n",
      "  warnings.warn(\"Estimator fit failed. The score on this train-test\"\n"
     ]
    },
    {
     "name": "stderr",
     "output_type": "stream",
     "text": [
      "C:\\Users\\smoha.LAPTOP-D47U0QA5\\anaconda3\\lib\\site-packages\\sklearn\\model_selection\\_validation.py:548: FitFailedWarning: Estimator fit failed. The score on this train-test partition for these parameters will be set to nan. Details: \n",
      "Traceback (most recent call last):\n",
      "  File \"C:\\Users\\smoha.LAPTOP-D47U0QA5\\anaconda3\\lib\\site-packages\\sklearn\\model_selection\\_validation.py\", line 531, in _fit_and_score\n",
      "    estimator.fit(X_train, y_train, **fit_params)\n",
      "  File \"C:\\Users\\smoha.LAPTOP-D47U0QA5\\anaconda3\\lib\\site-packages\\sklearn\\linear_model\\_logistic.py\", line 1885, in fit\n",
      "    fold_coefs_ = Parallel(n_jobs=self.n_jobs, verbose=self.verbose,\n",
      "  File \"C:\\Users\\smoha.LAPTOP-D47U0QA5\\anaconda3\\lib\\site-packages\\joblib\\parallel.py\", line 1029, in __call__\n",
      "    if self.dispatch_one_batch(iterator):\n",
      "  File \"C:\\Users\\smoha.LAPTOP-D47U0QA5\\anaconda3\\lib\\site-packages\\joblib\\parallel.py\", line 847, in dispatch_one_batch\n",
      "    self._dispatch(tasks)\n",
      "  File \"C:\\Users\\smoha.LAPTOP-D47U0QA5\\anaconda3\\lib\\site-packages\\joblib\\parallel.py\", line 765, in _dispatch\n",
      "    job = self._backend.apply_async(batch, callback=cb)\n",
      "  File \"C:\\Users\\smoha.LAPTOP-D47U0QA5\\anaconda3\\lib\\site-packages\\joblib\\_parallel_backends.py\", line 208, in apply_async\n",
      "    result = ImmediateResult(func)\n",
      "  File \"C:\\Users\\smoha.LAPTOP-D47U0QA5\\anaconda3\\lib\\site-packages\\joblib\\_parallel_backends.py\", line 572, in __init__\n",
      "    self.results = batch()\n",
      "  File \"C:\\Users\\smoha.LAPTOP-D47U0QA5\\anaconda3\\lib\\site-packages\\joblib\\parallel.py\", line 252, in __call__\n",
      "    return [func(*args, **kwargs)\n",
      "  File \"C:\\Users\\smoha.LAPTOP-D47U0QA5\\anaconda3\\lib\\site-packages\\joblib\\parallel.py\", line 252, in <listcomp>\n",
      "    return [func(*args, **kwargs)\n",
      "  File \"C:\\Users\\smoha.LAPTOP-D47U0QA5\\anaconda3\\lib\\site-packages\\sklearn\\linear_model\\_logistic.py\", line 965, in _log_reg_scoring_path\n",
      "    coefs, Cs, n_iter = _logistic_regression_path(\n",
      "  File \"C:\\Users\\smoha.LAPTOP-D47U0QA5\\anaconda3\\lib\\site-packages\\sklearn\\linear_model\\_logistic.py\", line 752, in _logistic_regression_path\n",
      "    n_iter = np.zeros(len(Cs), dtype=np.int32)\n",
      "TypeError: object of type 'float' has no len()\n",
      "\n",
      "  warnings.warn(\"Estimator fit failed. The score on this train-test\"\n",
      "C:\\Users\\smoha.LAPTOP-D47U0QA5\\anaconda3\\lib\\site-packages\\sklearn\\model_selection\\_validation.py:548: FitFailedWarning: Estimator fit failed. The score on this train-test partition for these parameters will be set to nan. Details: \n",
      "Traceback (most recent call last):\n",
      "  File \"C:\\Users\\smoha.LAPTOP-D47U0QA5\\anaconda3\\lib\\site-packages\\sklearn\\model_selection\\_validation.py\", line 531, in _fit_and_score\n",
      "    estimator.fit(X_train, y_train, **fit_params)\n",
      "  File \"C:\\Users\\smoha.LAPTOP-D47U0QA5\\anaconda3\\lib\\site-packages\\sklearn\\linear_model\\_logistic.py\", line 1885, in fit\n",
      "    fold_coefs_ = Parallel(n_jobs=self.n_jobs, verbose=self.verbose,\n",
      "  File \"C:\\Users\\smoha.LAPTOP-D47U0QA5\\anaconda3\\lib\\site-packages\\joblib\\parallel.py\", line 1029, in __call__\n",
      "    if self.dispatch_one_batch(iterator):\n",
      "  File \"C:\\Users\\smoha.LAPTOP-D47U0QA5\\anaconda3\\lib\\site-packages\\joblib\\parallel.py\", line 847, in dispatch_one_batch\n",
      "    self._dispatch(tasks)\n",
      "  File \"C:\\Users\\smoha.LAPTOP-D47U0QA5\\anaconda3\\lib\\site-packages\\joblib\\parallel.py\", line 765, in _dispatch\n",
      "    job = self._backend.apply_async(batch, callback=cb)\n",
      "  File \"C:\\Users\\smoha.LAPTOP-D47U0QA5\\anaconda3\\lib\\site-packages\\joblib\\_parallel_backends.py\", line 208, in apply_async\n",
      "    result = ImmediateResult(func)\n",
      "  File \"C:\\Users\\smoha.LAPTOP-D47U0QA5\\anaconda3\\lib\\site-packages\\joblib\\_parallel_backends.py\", line 572, in __init__\n",
      "    self.results = batch()\n",
      "  File \"C:\\Users\\smoha.LAPTOP-D47U0QA5\\anaconda3\\lib\\site-packages\\joblib\\parallel.py\", line 252, in __call__\n",
      "    return [func(*args, **kwargs)\n",
      "  File \"C:\\Users\\smoha.LAPTOP-D47U0QA5\\anaconda3\\lib\\site-packages\\joblib\\parallel.py\", line 252, in <listcomp>\n",
      "    return [func(*args, **kwargs)\n",
      "  File \"C:\\Users\\smoha.LAPTOP-D47U0QA5\\anaconda3\\lib\\site-packages\\sklearn\\linear_model\\_logistic.py\", line 965, in _log_reg_scoring_path\n",
      "    coefs, Cs, n_iter = _logistic_regression_path(\n",
      "  File \"C:\\Users\\smoha.LAPTOP-D47U0QA5\\anaconda3\\lib\\site-packages\\sklearn\\linear_model\\_logistic.py\", line 752, in _logistic_regression_path\n",
      "    n_iter = np.zeros(len(Cs), dtype=np.int32)\n",
      "TypeError: object of type 'float' has no len()\n",
      "\n",
      "  warnings.warn(\"Estimator fit failed. The score on this train-test\"\n",
      "C:\\Users\\smoha.LAPTOP-D47U0QA5\\anaconda3\\lib\\site-packages\\sklearn\\model_selection\\_validation.py:548: FitFailedWarning: Estimator fit failed. The score on this train-test partition for these parameters will be set to nan. Details: \n",
      "Traceback (most recent call last):\n",
      "  File \"C:\\Users\\smoha.LAPTOP-D47U0QA5\\anaconda3\\lib\\site-packages\\sklearn\\model_selection\\_validation.py\", line 531, in _fit_and_score\n",
      "    estimator.fit(X_train, y_train, **fit_params)\n",
      "  File \"C:\\Users\\smoha.LAPTOP-D47U0QA5\\anaconda3\\lib\\site-packages\\sklearn\\linear_model\\_logistic.py\", line 1885, in fit\n",
      "    fold_coefs_ = Parallel(n_jobs=self.n_jobs, verbose=self.verbose,\n",
      "  File \"C:\\Users\\smoha.LAPTOP-D47U0QA5\\anaconda3\\lib\\site-packages\\joblib\\parallel.py\", line 1029, in __call__\n",
      "    if self.dispatch_one_batch(iterator):\n",
      "  File \"C:\\Users\\smoha.LAPTOP-D47U0QA5\\anaconda3\\lib\\site-packages\\joblib\\parallel.py\", line 847, in dispatch_one_batch\n",
      "    self._dispatch(tasks)\n",
      "  File \"C:\\Users\\smoha.LAPTOP-D47U0QA5\\anaconda3\\lib\\site-packages\\joblib\\parallel.py\", line 765, in _dispatch\n",
      "    job = self._backend.apply_async(batch, callback=cb)\n",
      "  File \"C:\\Users\\smoha.LAPTOP-D47U0QA5\\anaconda3\\lib\\site-packages\\joblib\\_parallel_backends.py\", line 208, in apply_async\n",
      "    result = ImmediateResult(func)\n",
      "  File \"C:\\Users\\smoha.LAPTOP-D47U0QA5\\anaconda3\\lib\\site-packages\\joblib\\_parallel_backends.py\", line 572, in __init__\n",
      "    self.results = batch()\n",
      "  File \"C:\\Users\\smoha.LAPTOP-D47U0QA5\\anaconda3\\lib\\site-packages\\joblib\\parallel.py\", line 252, in __call__\n",
      "    return [func(*args, **kwargs)\n",
      "  File \"C:\\Users\\smoha.LAPTOP-D47U0QA5\\anaconda3\\lib\\site-packages\\joblib\\parallel.py\", line 252, in <listcomp>\n",
      "    return [func(*args, **kwargs)\n",
      "  File \"C:\\Users\\smoha.LAPTOP-D47U0QA5\\anaconda3\\lib\\site-packages\\sklearn\\linear_model\\_logistic.py\", line 965, in _log_reg_scoring_path\n",
      "    coefs, Cs, n_iter = _logistic_regression_path(\n",
      "  File \"C:\\Users\\smoha.LAPTOP-D47U0QA5\\anaconda3\\lib\\site-packages\\sklearn\\linear_model\\_logistic.py\", line 752, in _logistic_regression_path\n",
      "    n_iter = np.zeros(len(Cs), dtype=np.int32)\n",
      "TypeError: object of type 'float' has no len()\n",
      "\n",
      "  warnings.warn(\"Estimator fit failed. The score on this train-test\"\n",
      "C:\\Users\\smoha.LAPTOP-D47U0QA5\\anaconda3\\lib\\site-packages\\sklearn\\model_selection\\_validation.py:548: FitFailedWarning: Estimator fit failed. The score on this train-test partition for these parameters will be set to nan. Details: \n",
      "Traceback (most recent call last):\n",
      "  File \"C:\\Users\\smoha.LAPTOP-D47U0QA5\\anaconda3\\lib\\site-packages\\sklearn\\model_selection\\_validation.py\", line 531, in _fit_and_score\n",
      "    estimator.fit(X_train, y_train, **fit_params)\n",
      "  File \"C:\\Users\\smoha.LAPTOP-D47U0QA5\\anaconda3\\lib\\site-packages\\sklearn\\linear_model\\_logistic.py\", line 1885, in fit\n",
      "    fold_coefs_ = Parallel(n_jobs=self.n_jobs, verbose=self.verbose,\n",
      "  File \"C:\\Users\\smoha.LAPTOP-D47U0QA5\\anaconda3\\lib\\site-packages\\joblib\\parallel.py\", line 1029, in __call__\n",
      "    if self.dispatch_one_batch(iterator):\n",
      "  File \"C:\\Users\\smoha.LAPTOP-D47U0QA5\\anaconda3\\lib\\site-packages\\joblib\\parallel.py\", line 847, in dispatch_one_batch\n",
      "    self._dispatch(tasks)\n",
      "  File \"C:\\Users\\smoha.LAPTOP-D47U0QA5\\anaconda3\\lib\\site-packages\\joblib\\parallel.py\", line 765, in _dispatch\n",
      "    job = self._backend.apply_async(batch, callback=cb)\n",
      "  File \"C:\\Users\\smoha.LAPTOP-D47U0QA5\\anaconda3\\lib\\site-packages\\joblib\\_parallel_backends.py\", line 208, in apply_async\n",
      "    result = ImmediateResult(func)\n",
      "  File \"C:\\Users\\smoha.LAPTOP-D47U0QA5\\anaconda3\\lib\\site-packages\\joblib\\_parallel_backends.py\", line 572, in __init__\n",
      "    self.results = batch()\n",
      "  File \"C:\\Users\\smoha.LAPTOP-D47U0QA5\\anaconda3\\lib\\site-packages\\joblib\\parallel.py\", line 252, in __call__\n",
      "    return [func(*args, **kwargs)\n",
      "  File \"C:\\Users\\smoha.LAPTOP-D47U0QA5\\anaconda3\\lib\\site-packages\\joblib\\parallel.py\", line 252, in <listcomp>\n",
      "    return [func(*args, **kwargs)\n",
      "  File \"C:\\Users\\smoha.LAPTOP-D47U0QA5\\anaconda3\\lib\\site-packages\\sklearn\\linear_model\\_logistic.py\", line 965, in _log_reg_scoring_path\n",
      "    coefs, Cs, n_iter = _logistic_regression_path(\n",
      "  File \"C:\\Users\\smoha.LAPTOP-D47U0QA5\\anaconda3\\lib\\site-packages\\sklearn\\linear_model\\_logistic.py\", line 752, in _logistic_regression_path\n",
      "    n_iter = np.zeros(len(Cs), dtype=np.int32)\n",
      "TypeError: object of type 'float' has no len()\n",
      "\n",
      "  warnings.warn(\"Estimator fit failed. The score on this train-test\"\n"
     ]
    },
    {
     "name": "stderr",
     "output_type": "stream",
     "text": [
      "C:\\Users\\smoha.LAPTOP-D47U0QA5\\anaconda3\\lib\\site-packages\\sklearn\\model_selection\\_validation.py:548: FitFailedWarning: Estimator fit failed. The score on this train-test partition for these parameters will be set to nan. Details: \n",
      "Traceback (most recent call last):\n",
      "  File \"C:\\Users\\smoha.LAPTOP-D47U0QA5\\anaconda3\\lib\\site-packages\\sklearn\\model_selection\\_validation.py\", line 531, in _fit_and_score\n",
      "    estimator.fit(X_train, y_train, **fit_params)\n",
      "  File \"C:\\Users\\smoha.LAPTOP-D47U0QA5\\anaconda3\\lib\\site-packages\\sklearn\\linear_model\\_logistic.py\", line 1885, in fit\n",
      "    fold_coefs_ = Parallel(n_jobs=self.n_jobs, verbose=self.verbose,\n",
      "  File \"C:\\Users\\smoha.LAPTOP-D47U0QA5\\anaconda3\\lib\\site-packages\\joblib\\parallel.py\", line 1029, in __call__\n",
      "    if self.dispatch_one_batch(iterator):\n",
      "  File \"C:\\Users\\smoha.LAPTOP-D47U0QA5\\anaconda3\\lib\\site-packages\\joblib\\parallel.py\", line 847, in dispatch_one_batch\n",
      "    self._dispatch(tasks)\n",
      "  File \"C:\\Users\\smoha.LAPTOP-D47U0QA5\\anaconda3\\lib\\site-packages\\joblib\\parallel.py\", line 765, in _dispatch\n",
      "    job = self._backend.apply_async(batch, callback=cb)\n",
      "  File \"C:\\Users\\smoha.LAPTOP-D47U0QA5\\anaconda3\\lib\\site-packages\\joblib\\_parallel_backends.py\", line 208, in apply_async\n",
      "    result = ImmediateResult(func)\n",
      "  File \"C:\\Users\\smoha.LAPTOP-D47U0QA5\\anaconda3\\lib\\site-packages\\joblib\\_parallel_backends.py\", line 572, in __init__\n",
      "    self.results = batch()\n",
      "  File \"C:\\Users\\smoha.LAPTOP-D47U0QA5\\anaconda3\\lib\\site-packages\\joblib\\parallel.py\", line 252, in __call__\n",
      "    return [func(*args, **kwargs)\n",
      "  File \"C:\\Users\\smoha.LAPTOP-D47U0QA5\\anaconda3\\lib\\site-packages\\joblib\\parallel.py\", line 252, in <listcomp>\n",
      "    return [func(*args, **kwargs)\n",
      "  File \"C:\\Users\\smoha.LAPTOP-D47U0QA5\\anaconda3\\lib\\site-packages\\sklearn\\linear_model\\_logistic.py\", line 965, in _log_reg_scoring_path\n",
      "    coefs, Cs, n_iter = _logistic_regression_path(\n",
      "  File \"C:\\Users\\smoha.LAPTOP-D47U0QA5\\anaconda3\\lib\\site-packages\\sklearn\\linear_model\\_logistic.py\", line 752, in _logistic_regression_path\n",
      "    n_iter = np.zeros(len(Cs), dtype=np.int32)\n",
      "TypeError: object of type 'float' has no len()\n",
      "\n",
      "  warnings.warn(\"Estimator fit failed. The score on this train-test\"\n",
      "C:\\Users\\smoha.LAPTOP-D47U0QA5\\anaconda3\\lib\\site-packages\\sklearn\\model_selection\\_validation.py:548: FitFailedWarning: Estimator fit failed. The score on this train-test partition for these parameters will be set to nan. Details: \n",
      "Traceback (most recent call last):\n",
      "  File \"C:\\Users\\smoha.LAPTOP-D47U0QA5\\anaconda3\\lib\\site-packages\\sklearn\\model_selection\\_validation.py\", line 531, in _fit_and_score\n",
      "    estimator.fit(X_train, y_train, **fit_params)\n",
      "  File \"C:\\Users\\smoha.LAPTOP-D47U0QA5\\anaconda3\\lib\\site-packages\\sklearn\\linear_model\\_logistic.py\", line 1885, in fit\n",
      "    fold_coefs_ = Parallel(n_jobs=self.n_jobs, verbose=self.verbose,\n",
      "  File \"C:\\Users\\smoha.LAPTOP-D47U0QA5\\anaconda3\\lib\\site-packages\\joblib\\parallel.py\", line 1029, in __call__\n",
      "    if self.dispatch_one_batch(iterator):\n",
      "  File \"C:\\Users\\smoha.LAPTOP-D47U0QA5\\anaconda3\\lib\\site-packages\\joblib\\parallel.py\", line 847, in dispatch_one_batch\n",
      "    self._dispatch(tasks)\n",
      "  File \"C:\\Users\\smoha.LAPTOP-D47U0QA5\\anaconda3\\lib\\site-packages\\joblib\\parallel.py\", line 765, in _dispatch\n",
      "    job = self._backend.apply_async(batch, callback=cb)\n",
      "  File \"C:\\Users\\smoha.LAPTOP-D47U0QA5\\anaconda3\\lib\\site-packages\\joblib\\_parallel_backends.py\", line 208, in apply_async\n",
      "    result = ImmediateResult(func)\n",
      "  File \"C:\\Users\\smoha.LAPTOP-D47U0QA5\\anaconda3\\lib\\site-packages\\joblib\\_parallel_backends.py\", line 572, in __init__\n",
      "    self.results = batch()\n",
      "  File \"C:\\Users\\smoha.LAPTOP-D47U0QA5\\anaconda3\\lib\\site-packages\\joblib\\parallel.py\", line 252, in __call__\n",
      "    return [func(*args, **kwargs)\n",
      "  File \"C:\\Users\\smoha.LAPTOP-D47U0QA5\\anaconda3\\lib\\site-packages\\joblib\\parallel.py\", line 252, in <listcomp>\n",
      "    return [func(*args, **kwargs)\n",
      "  File \"C:\\Users\\smoha.LAPTOP-D47U0QA5\\anaconda3\\lib\\site-packages\\sklearn\\linear_model\\_logistic.py\", line 965, in _log_reg_scoring_path\n",
      "    coefs, Cs, n_iter = _logistic_regression_path(\n",
      "  File \"C:\\Users\\smoha.LAPTOP-D47U0QA5\\anaconda3\\lib\\site-packages\\sklearn\\linear_model\\_logistic.py\", line 752, in _logistic_regression_path\n",
      "    n_iter = np.zeros(len(Cs), dtype=np.int32)\n",
      "TypeError: object of type 'float' has no len()\n",
      "\n",
      "  warnings.warn(\"Estimator fit failed. The score on this train-test\"\n"
     ]
    },
    {
     "name": "stdout",
     "output_type": "stream",
     "text": [
      "Best Score: 0.8963790412486065\n",
      "Best Score: {'Cs': 2, 'fit_intercept': True}\n"
     ]
    },
    {
     "data": {
      "text/plain": [
       "(1.0, 0.8917835671342685)"
      ]
     },
     "execution_count": 1458,
     "metadata": {},
     "output_type": "execute_result"
    }
   ],
   "source": [
    "lr=LogisticRegressionCV(max_iter=10000,Cs=2)\n",
    "params_lr={\n",
    "    'Cs':[.5,1,2],\n",
    "    'fit_intercept':[True,False],    \n",
    "}\n",
    "gs=GridSearchCV(lr,params_lr,cv=5)\n",
    "gs.fit(X_train_cvec,y_train)\n",
    "print(f'Best Score: {gs.best_score_}')\n",
    "print(f'Best Score: {gs.best_params_}')\n",
    "gs.score(X_train_cvec,y_train),gs.score(X_test_cvec,y_test)"
   ]
  },
  {
   "cell_type": "code",
   "execution_count": 1507,
   "metadata": {
    "scrolled": false
   },
   "outputs": [],
   "source": [
    "coef_df=pd.DataFrame({\"Feature\":X_train_cvec.columns.tolist(),\"Coefficients\":lr.coef_[0]})\n",
    "top_nba_discussion=pd.DataFrame(coef_df.sort_values('Coefficients').head(20))\n",
    "top_nba=pd.DataFrame(coef_df.sort_values('Coefficients').tail(20))"
   ]
  },
  {
   "cell_type": "code",
   "execution_count": 1508,
   "metadata": {},
   "outputs": [],
   "source": [
    "top_nba=top_nba.sort_values('Coefficients',ascending=False)\n",
    "top_nba['Odds']=np.exp(top_nba['Coefficients'])"
   ]
  },
  {
   "cell_type": "code",
   "execution_count": 1509,
   "metadata": {},
   "outputs": [],
   "source": [
    "top_nba_discussion=top_nba_discussion.sort_values('Coefficients',ascending=True)\n",
    "top_nba_discussion['Odds']=np.exp(top_nba_discussion['Coefficients'])\n",
    "top_nba_discussion['Odds']=top_nba_discussion['Odds']**-1\n"
   ]
  },
  {
   "cell_type": "code",
   "execution_count": 1510,
   "metadata": {},
   "outputs": [
    {
     "data": {
      "text/html": [
       "<div>\n",
       "<style scoped>\n",
       "    .dataframe tbody tr th:only-of-type {\n",
       "        vertical-align: middle;\n",
       "    }\n",
       "\n",
       "    .dataframe tbody tr th {\n",
       "        vertical-align: top;\n",
       "    }\n",
       "\n",
       "    .dataframe thead th {\n",
       "        text-align: right;\n",
       "    }\n",
       "</style>\n",
       "<table border=\"1\" class=\"dataframe\">\n",
       "  <thead>\n",
       "    <tr style=\"text-align: right;\">\n",
       "      <th></th>\n",
       "      <th>Feature</th>\n",
       "      <th>Odds</th>\n",
       "    </tr>\n",
       "  </thead>\n",
       "  <tbody>\n",
       "    <tr>\n",
       "      <th>7</th>\n",
       "      <td>body_period</td>\n",
       "      <td>1.997944</td>\n",
       "    </tr>\n",
       "    <tr>\n",
       "      <th>7578</th>\n",
       "      <td>boycott</td>\n",
       "      <td>1.762734</td>\n",
       "    </tr>\n",
       "    <tr>\n",
       "      <th>2</th>\n",
       "      <td>title_question_mark</td>\n",
       "      <td>1.693899</td>\n",
       "    </tr>\n",
       "    <tr>\n",
       "      <th>20773</th>\n",
       "      <td>stanley</td>\n",
       "      <td>1.563753</td>\n",
       "    </tr>\n",
       "    <tr>\n",
       "      <th>3</th>\n",
       "      <td>body_question_mark</td>\n",
       "      <td>1.534229</td>\n",
       "    </tr>\n",
       "    <tr>\n",
       "      <th>6049</th>\n",
       "      <td>afford</td>\n",
       "      <td>1.484058</td>\n",
       "    </tr>\n",
       "    <tr>\n",
       "      <th>14238</th>\n",
       "      <td>kennedy</td>\n",
       "      <td>1.459094</td>\n",
       "    </tr>\n",
       "    <tr>\n",
       "      <th>12920</th>\n",
       "      <td>hofers</td>\n",
       "      <td>1.441668</td>\n",
       "    </tr>\n",
       "    <tr>\n",
       "      <th>7790</th>\n",
       "      <td>bullock</td>\n",
       "      <td>1.407095</td>\n",
       "    </tr>\n",
       "    <tr>\n",
       "      <th>15816</th>\n",
       "      <td>mirotic</td>\n",
       "      <td>1.377965</td>\n",
       "    </tr>\n",
       "    <tr>\n",
       "      <th>4799</th>\n",
       "      <td>47/15/4</td>\n",
       "      <td>1.355901</td>\n",
       "    </tr>\n",
       "    <tr>\n",
       "      <th>14069</th>\n",
       "      <td>journey</td>\n",
       "      <td>1.334405</td>\n",
       "    </tr>\n",
       "    <tr>\n",
       "      <th>19834</th>\n",
       "      <td>send</td>\n",
       "      <td>1.330253</td>\n",
       "    </tr>\n",
       "    <tr>\n",
       "      <th>1409</th>\n",
       "      <td>//twitter.com/wojespn/status/1316772149940686849</td>\n",
       "      <td>1.328178</td>\n",
       "    </tr>\n",
       "    <tr>\n",
       "      <th>60</th>\n",
       "      <td>'every</td>\n",
       "      <td>1.309812</td>\n",
       "    </tr>\n",
       "    <tr>\n",
       "      <th>1394</th>\n",
       "      <td>//twitter.com/wojespn/status/1149474995996749825</td>\n",
       "      <td>1.304707</td>\n",
       "    </tr>\n",
       "    <tr>\n",
       "      <th>9182</th>\n",
       "      <td>crazy</td>\n",
       "      <td>1.290278</td>\n",
       "    </tr>\n",
       "    <tr>\n",
       "      <th>5663</th>\n",
       "      <td>98.9</td>\n",
       "      <td>1.286824</td>\n",
       "    </tr>\n",
       "    <tr>\n",
       "      <th>5142</th>\n",
       "      <td>6-10</td>\n",
       "      <td>1.285556</td>\n",
       "    </tr>\n",
       "    <tr>\n",
       "      <th>12760</th>\n",
       "      <td>herring</td>\n",
       "      <td>1.281468</td>\n",
       "    </tr>\n",
       "  </tbody>\n",
       "</table>\n",
       "</div>"
      ],
      "text/plain": [
       "                                                Feature      Odds\n",
       "7                                           body_period  1.997944\n",
       "7578                                            boycott  1.762734\n",
       "2                                   title_question_mark  1.693899\n",
       "20773                                           stanley  1.563753\n",
       "3                                    body_question_mark  1.534229\n",
       "6049                                             afford  1.484058\n",
       "14238                                           kennedy  1.459094\n",
       "12920                                            hofers  1.441668\n",
       "7790                                            bullock  1.407095\n",
       "15816                                           mirotic  1.377965\n",
       "4799                                            47/15/4  1.355901\n",
       "14069                                           journey  1.334405\n",
       "19834                                              send  1.330253\n",
       "1409   //twitter.com/wojespn/status/1316772149940686849  1.328178\n",
       "60                                               'every  1.309812\n",
       "1394   //twitter.com/wojespn/status/1149474995996749825  1.304707\n",
       "9182                                              crazy  1.290278\n",
       "5663                                               98.9  1.286824\n",
       "5142                                               6-10  1.285556\n",
       "12760                                           herring  1.281468"
      ]
     },
     "execution_count": 1510,
     "metadata": {},
     "output_type": "execute_result"
    }
   ],
   "source": [
    "top_nba_discussion[['Feature','Odds']]"
   ]
  },
  {
   "cell_type": "code",
   "execution_count": 1511,
   "metadata": {},
   "outputs": [
    {
     "data": {
      "text/html": [
       "<div>\n",
       "<style scoped>\n",
       "    .dataframe tbody tr th:only-of-type {\n",
       "        vertical-align: middle;\n",
       "    }\n",
       "\n",
       "    .dataframe tbody tr th {\n",
       "        vertical-align: top;\n",
       "    }\n",
       "\n",
       "    .dataframe thead th {\n",
       "        text-align: right;\n",
       "    }\n",
       "</style>\n",
       "<table border=\"1\" class=\"dataframe\">\n",
       "  <thead>\n",
       "    <tr style=\"text-align: right;\">\n",
       "      <th></th>\n",
       "      <th>Feature</th>\n",
       "      <th>Odds</th>\n",
       "    </tr>\n",
       "  </thead>\n",
       "  <tbody>\n",
       "    <tr>\n",
       "      <th>4</th>\n",
       "      <td>title_exclamation_mark</td>\n",
       "      <td>2.474631</td>\n",
       "    </tr>\n",
       "    <tr>\n",
       "      <th>8315</th>\n",
       "      <td>charania</td>\n",
       "      <td>2.335245</td>\n",
       "    </tr>\n",
       "    <tr>\n",
       "      <th>23623</th>\n",
       "      <td>wojnarowski</td>\n",
       "      <td>1.826165</td>\n",
       "    </tr>\n",
       "    <tr>\n",
       "      <th>4109</th>\n",
       "      <td>3-2</td>\n",
       "      <td>1.747158</td>\n",
       "    </tr>\n",
       "    <tr>\n",
       "      <th>21509</th>\n",
       "      <td>tell</td>\n",
       "      <td>1.549037</td>\n",
       "    </tr>\n",
       "    <tr>\n",
       "      <th>10783</th>\n",
       "      <td>espn</td>\n",
       "      <td>1.257656</td>\n",
       "    </tr>\n",
       "    <tr>\n",
       "      <th>4711</th>\n",
       "      <td>43/17/13</td>\n",
       "      <td>1.256887</td>\n",
       "    </tr>\n",
       "    <tr>\n",
       "      <th>22250</th>\n",
       "      <td>triple-double</td>\n",
       "      <td>1.251662</td>\n",
       "    </tr>\n",
       "    <tr>\n",
       "      <th>16526</th>\n",
       "      <td>notified</td>\n",
       "      <td>1.219121</td>\n",
       "    </tr>\n",
       "    <tr>\n",
       "      <th>4216</th>\n",
       "      <td>30/6/7</td>\n",
       "      <td>1.213328</td>\n",
       "    </tr>\n",
       "    <tr>\n",
       "      <th>6</th>\n",
       "      <td>title_period</td>\n",
       "      <td>1.197715</td>\n",
       "    </tr>\n",
       "    <tr>\n",
       "      <th>6024</th>\n",
       "      <td>advance</td>\n",
       "      <td>1.178719</td>\n",
       "    </tr>\n",
       "    <tr>\n",
       "      <th>7661</th>\n",
       "      <td>bring</td>\n",
       "      <td>1.174610</td>\n",
       "    </tr>\n",
       "    <tr>\n",
       "      <th>4641</th>\n",
       "      <td>40/11/13</td>\n",
       "      <td>1.171354</td>\n",
       "    </tr>\n",
       "    <tr>\n",
       "      <th>4105</th>\n",
       "      <td>3-1</td>\n",
       "      <td>1.154407</td>\n",
       "    </tr>\n",
       "    <tr>\n",
       "      <th>8</th>\n",
       "      <td>!</td>\n",
       "      <td>1.153386</td>\n",
       "    </tr>\n",
       "    <tr>\n",
       "      <th>20560</th>\n",
       "      <td>source</td>\n",
       "      <td>1.152940</td>\n",
       "    </tr>\n",
       "    <tr>\n",
       "      <th>20480</th>\n",
       "      <td>solar</td>\n",
       "      <td>1.140863</td>\n",
       "    </tr>\n",
       "    <tr>\n",
       "      <th>12837</th>\n",
       "      <td>highlight</td>\n",
       "      <td>1.137470</td>\n",
       "    </tr>\n",
       "    <tr>\n",
       "      <th>11802</th>\n",
       "      <td>game-winning</td>\n",
       "      <td>1.128309</td>\n",
       "    </tr>\n",
       "  </tbody>\n",
       "</table>\n",
       "</div>"
      ],
      "text/plain": [
       "                      Feature      Odds\n",
       "4      title_exclamation_mark  2.474631\n",
       "8315                 charania  2.335245\n",
       "23623             wojnarowski  1.826165\n",
       "4109                      3-2  1.747158\n",
       "21509                    tell  1.549037\n",
       "10783                    espn  1.257656\n",
       "4711                 43/17/13  1.256887\n",
       "22250           triple-double  1.251662\n",
       "16526                notified  1.219121\n",
       "4216                   30/6/7  1.213328\n",
       "6                title_period  1.197715\n",
       "6024                  advance  1.178719\n",
       "7661                    bring  1.174610\n",
       "4641                 40/11/13  1.171354\n",
       "4105                      3-1  1.154407\n",
       "8                           !  1.153386\n",
       "20560                  source  1.152940\n",
       "20480                   solar  1.140863\n",
       "12837               highlight  1.137470\n",
       "11802            game-winning  1.128309"
      ]
     },
     "execution_count": 1511,
     "metadata": {},
     "output_type": "execute_result"
    }
   ],
   "source": [
    "top_nba[['Feature','Odds']]"
   ]
  },
  {
   "cell_type": "markdown",
   "metadata": {},
   "source": [
    "# Random Forests"
   ]
  },
  {
   "cell_type": "code",
   "execution_count": 1017,
   "metadata": {},
   "outputs": [],
   "source": [
    "from sklearn.ensemble import RandomForestClassifier, ExtraTreesClassifier\n"
   ]
  },
  {
   "cell_type": "code",
   "execution_count": 980,
   "metadata": {},
   "outputs": [
    {
     "data": {
      "text/plain": [
       "(0.9772727272727273, 0.87374749498998)"
      ]
     },
     "execution_count": 980,
     "metadata": {},
     "output_type": "execute_result"
    }
   ],
   "source": [
    "rf=RandomForestClassifier()\n",
    "rf.fit(X_train.drop(columns='title'),y_train)\n",
    "rf.score(X_train.drop(columns='title'),y_train),rf.score(X_test.drop(columns='title'),y_test)"
   ]
  },
  {
   "cell_type": "code",
   "execution_count": 1033,
   "metadata": {},
   "outputs": [
    {
     "data": {
      "text/plain": [
       "(0.9993315508021391, 0.8637274549098196)"
      ]
     },
     "execution_count": 1033,
     "metadata": {},
     "output_type": "execute_result"
    }
   ],
   "source": [
    "rf=RandomForestClassifier()\n",
    "rf.fit(X_train_c,y_train)\n",
    "rf.score(X_train_c,y_train),rf.score(X_test_c,y_test)"
   ]
  },
  {
   "cell_type": "code",
   "execution_count": 1032,
   "metadata": {},
   "outputs": [
    {
     "data": {
      "text/plain": [
       "(0.9993315508021391, 0.8657314629258517)"
      ]
     },
     "execution_count": 1032,
     "metadata": {},
     "output_type": "execute_result"
    }
   ],
   "source": [
    "rf=RandomForestClassifier()\n",
    "rf.fit(X_train_cvec,y_train)\n",
    "rf.score(X_train_cvec,y_train),rf.score(X_test_cvec,y_test)"
   ]
  },
  {
   "cell_type": "code",
   "execution_count": 1454,
   "metadata": {},
   "outputs": [
    {
     "name": "stdout",
     "output_type": "stream",
     "text": [
      "Best Score: 0.8997190635451504\n",
      "Best Score: {'max_depth': None, 'max_features': None, 'n_estimators': 75}\n"
     ]
    },
    {
     "data": {
      "text/plain": [
       "(1.0, 0.8837675350701403)"
      ]
     },
     "execution_count": 1454,
     "metadata": {},
     "output_type": "execute_result"
    }
   ],
   "source": [
    "params_rf={\n",
    "    'n_estimators':[75,100,125],\n",
    "    'max_depth':[None,1,2,3],\n",
    "    'max_features':[None,'auto','sqrt','log2'],    \n",
    "}\n",
    "gs=GridSearchCV(rf,params_rf,cv=5)\n",
    "gs.fit(X_train_cvec,y_train)\n",
    "print(f'Best Score: {gs.best_score_}')\n",
    "print(f'Best Score: {gs.best_params_}')\n",
    "gs.score(X_train_cvec,y_train),gs.score(X_test_cvec,y_test)"
   ]
  },
  {
   "cell_type": "markdown",
   "metadata": {},
   "source": [
    "## Accuracy Scores"
   ]
  },
  {
   "cell_type": "markdown",
   "metadata": {},
   "source": [
    "| Data                                           | KNN Train | KNN Test | LR Train | LR Test  | RF Train | RF Test  |\n",
    "|------------------------------------------------|-----------|----------|----------|----------|----------|----------|\n",
    "| Word Counts Only (title and body)              | 0.912433  | 0.877755 | 0.838903 | 0.827655 | 0.977272 | 0.873747 |\n",
    "| Title Vectorized (c)                           | 0.766042  | 0.619238 | 0.962566 | 0.819639 | 0.998663 | 0.787575 |\n",
    "| Title Vectorized and Word Counts (cvec)        | 0.921791  | 0.877755 | 0.915775 | 0.861723 | 0.999331 | 0.879759 |\n",
    "| Body Vectorized (c)                            | 0.866978  | 0.803607 | 0.978609 | 0.889779 | 0.978609 | 0.871743 |\n",
    "| Body Vectorized and Word Counts (cvec)         | 0.915106  | 0.887775 | 0.959893 | 0.879759 | 0.981951 | 0.873747 |\n",
    "| Title & Body Vectorized (c)                    | 0.841577  | 0.811623 | 0.989973 | 0.897795 | 0.999331 | 0.863727 |\n",
    "| Title & Body Vectorized  Word Counts (cvec) | 0.915106  | 0.889779 | 0.969919 | 0.897795 | 0.999331 | 0.865731 |"
   ]
  },
  {
   "cell_type": "markdown",
   "metadata": {},
   "source": [
    "# Conclusion"
   ]
  },
  {
   "cell_type": "markdown",
   "metadata": {},
   "source": [
    "The models all performed well on classifying data. This may be due to the large word count differences between the two subreddits. Taking out stop words seems to decrease accuracy and this again may be due to large word count. Adding punctuation improved scores probably due to the high correlations of punctuations. \n",
    "\n",
    "NBADiscussion subreddits seem to ask more questions and have large word counts in the body of the post. NBA bodies usually are smaller and their titles are larger. This is in line with polices of the NBADiscussion subreddit which has minimum character counts for posts bodies and expect titles to be concise. Also, posts have higher amount of question marks because they may ask more questions to spur discusssion. \n",
    "\n",
    "#### Further Areas of Study\n",
    "* Sentiment analysis of each subreddit\n",
    "\n",
    "* Study vocabulary used in each subreddit\n",
    "\n",
    "* Study vectorized data again but account for word count\n"
   ]
  },
  {
   "cell_type": "code",
   "execution_count": null,
   "metadata": {},
   "outputs": [],
   "source": []
  },
  {
   "cell_type": "code",
   "execution_count": null,
   "metadata": {},
   "outputs": [],
   "source": []
  }
 ],
 "metadata": {
  "kernelspec": {
   "display_name": "Python 3",
   "language": "python",
   "name": "python3"
  },
  "language_info": {
   "codemirror_mode": {
    "name": "ipython",
    "version": 3
   },
   "file_extension": ".py",
   "mimetype": "text/x-python",
   "name": "python",
   "nbconvert_exporter": "python",
   "pygments_lexer": "ipython3",
   "version": "3.8.3"
  }
 },
 "nbformat": 4,
 "nbformat_minor": 2
}
